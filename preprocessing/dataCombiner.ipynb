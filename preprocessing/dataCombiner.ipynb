{
 "cells": [
  {
   "cell_type": "code",
   "execution_count": 1,
   "metadata": {},
   "outputs": [],
   "source": [
    "allJsonLevels = []"
   ]
  },
  {
   "cell_type": "code",
   "execution_count": 19,
   "metadata": {},
   "outputs": [],
   "source": [
    "import numpy as np\n",
    "import json\n",
    "\n",
    "dungeon = 'tloz9_2.json'\n",
    "with open(dungeon) as levels:\n",
    "    dataLevel = json.load(levels)\n",
    "\n",
    "convertedDataLevel = json.loads(dataLevel)\n",
    "for x in convertedDataLevel:\n",
    "    allJsonLevels.append(x)"
   ]
  },
  {
   "cell_type": "code",
   "execution_count": 26,
   "metadata": {},
   "outputs": [
    {
     "name": "stdout",
     "output_type": "stream",
     "text": [
      "(45, 11, 16)\n"
     ]
    }
   ],
   "source": [
    "allJsonLevels = np.array(allJsonLevels)\n",
    "allJsonLevels.shape\n",
    "allJsonLevels = np.unique(allJsonLevels, axis = 0)\n",
    "print(allJsonLevels.shape)"
   ]
  },
  {
   "cell_type": "code",
   "execution_count": 27,
   "metadata": {},
   "outputs": [],
   "source": [
    "with open('final.json', 'w') as outfile:\n",
    "    json.dump(allJsonLevels.tolist(), outfile)"
   ]
  }
 ],
 "metadata": {
  "kernelspec": {
   "display_name": "Python 3",
   "language": "python",
   "name": "python3"
  },
  "language_info": {
   "codemirror_mode": {
    "name": "ipython",
    "version": 3
   },
   "file_extension": ".py",
   "mimetype": "text/x-python",
   "name": "python",
   "nbconvert_exporter": "python",
   "pygments_lexer": "ipython3",
   "version": "3.7.6"
  }
 },
 "nbformat": 4,
 "nbformat_minor": 4
}
